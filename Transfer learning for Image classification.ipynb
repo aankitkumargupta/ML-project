{
 "cells": [
  {
   "cell_type": "code",
   "execution_count": 1,
   "metadata": {
    "colab": {
     "base_uri": "https://localhost:8080/"
    },
    "executionInfo": {
     "elapsed": 24743,
     "status": "ok",
     "timestamp": 1700673045548,
     "user": {
      "displayName": "vinayak baliga",
      "userId": "09325280867103225447"
     },
     "user_tz": -330
    },
    "id": "9QPhN5875mab",
    "outputId": "9525e515-75f0-4cef-c9fb-7604948a0f55"
   },
   "outputs": [
    {
     "name": "stdout",
     "output_type": "stream",
     "text": [
      "Mounted at /content/drive\n"
     ]
    }
   ],
   "source": [
    "from google.colab import drive\n",
    "drive.mount('/content/drive')"
   ]
  },
  {
   "cell_type": "code",
   "execution_count": 2,
   "metadata": {
    "executionInfo": {
     "elapsed": 10,
     "status": "ok",
     "timestamp": 1700673045548,
     "user": {
      "displayName": "vinayak baliga",
      "userId": "09325280867103225447"
     },
     "user_tz": -330
    },
    "id": "eDKLImnz-lna"
   },
   "outputs": [],
   "source": [
    "data_dir = '/content/drive/My Drive/hymenoptera_data'"
   ]
  },
  {
   "cell_type": "code",
   "execution_count": 3,
   "metadata": {
    "executionInfo": {
     "elapsed": 12833,
     "status": "ok",
     "timestamp": 1700673058375,
     "user": {
      "displayName": "vinayak baliga",
      "userId": "09325280867103225447"
     },
     "user_tz": -330
    },
    "id": "tkxaSqLh-yJq"
   },
   "outputs": [],
   "source": [
    "import torch\n",
    "import torch.nn as nn\n",
    "import torch.optim as optim\n",
    "from torch.optim import lr_scheduler\n",
    "import torch.backends.cudnn as cudnn\n",
    "import numpy as np\n",
    "import torchvision\n",
    "from torchvision import datasets, models, transforms\n",
    "import matplotlib.pyplot as plt\n",
    "import time\n",
    "import os\n",
    "import copy\n",
    "import numpy as np"
   ]
  },
  {
   "cell_type": "code",
   "execution_count": 4,
   "metadata": {
    "colab": {
     "base_uri": "https://localhost:8080/"
    },
    "executionInfo": {
     "elapsed": 1994,
     "status": "ok",
     "timestamp": 1700673060331,
     "user": {
      "displayName": "vinayak baliga",
      "userId": "09325280867103225447"
     },
     "user_tz": -330
    },
    "id": "ImF3WfMG-ye8",
    "outputId": "321e5a52-3e88-4ae0-cdf1-d55e97b76b24"
   },
   "outputs": [
    {
     "name": "stderr",
     "output_type": "stream",
     "text": [
      "/usr/local/lib/python3.10/dist-packages/torch/utils/data/dataloader.py:557: UserWarning: This DataLoader will create 4 worker processes in total. Our suggested max number of worker in current system is 2, which is smaller than what this DataLoader is going to create. Please be aware that excessive worker creation might get DataLoader running slow or even freeze, lower the worker number to avoid potential slowness/freeze if necessary.\n",
      "  warnings.warn(_create_warning_msg(\n"
     ]
    }
   ],
   "source": [
    "# Data augmentation and normalization for training\n",
    "# Just normalization for validation\n",
    "data_transforms = {\n",
    "    'train': transforms.Compose([\n",
    "        transforms.RandomResizedCrop(224),\n",
    "        transforms.RandomHorizontalFlip(),\n",
    "        transforms.ToTensor(),\n",
    "        transforms.Normalize([0.485, 0.456, 0.406], [0.229, 0.224, 0.225])\n",
    "    ]),\n",
    "    'val': transforms.Compose([\n",
    "        transforms.Resize(256),\n",
    "        transforms.CenterCrop(224),\n",
    "        transforms.ToTensor(),\n",
    "        transforms.Normalize([0.485, 0.456, 0.406], [0.229, 0.224, 0.225])\n",
    "    ]),\n",
    "}\n",
    "#The mean (from the first list) is subtracted from every pixel.\n",
    "#Then, the result is divided by the corresponding standard deviation (from the second list).\n",
    "data_dir = '/content/drive/My Drive/hymenoptera_data'\n",
    "\n",
    "image_datasets = {x: datasets.ImageFolder(os.path.join(data_dir, x),\n",
    "                                          data_transforms[x])\n",
    "                  for x in ['train', 'val']}\n",
    "dataloaders = {x: torch.utils.data.DataLoader(image_datasets[x], batch_size=4,\n",
    "                                             shuffle=True, num_workers=4)\n",
    "              for x in ['train', 'val']}\n",
    "dataset_sizes = {x: len(image_datasets[x]) for x in ['train', 'val']}\n",
    "class_names = image_datasets['train'].classes\n",
    "device = torch.device(\"cuda:0\" if torch.cuda.is_available() else \"cpu\")"
   ]
  },
  {
   "cell_type": "code",
   "execution_count": 5,
   "metadata": {
    "colab": {
     "base_uri": "https://localhost:8080/"
    },
    "executionInfo": {
     "elapsed": 1918,
     "status": "ok",
     "timestamp": 1700673062242,
     "user": {
      "displayName": "vinayak baliga",
      "userId": "09325280867103225447"
     },
     "user_tz": -330
    },
    "id": "BjCaZwwu_LZL",
    "outputId": "407ccd0d-c361-4540-f021-e523925ddee3"
   },
   "outputs": [
    {
     "name": "stderr",
     "output_type": "stream",
     "text": [
      "/usr/local/lib/python3.10/dist-packages/torchvision/models/_utils.py:208: UserWarning: The parameter 'pretrained' is deprecated since 0.13 and may be removed in the future, please use 'weights' instead.\n",
      "  warnings.warn(\n",
      "/usr/local/lib/python3.10/dist-packages/torchvision/models/_utils.py:223: UserWarning: Arguments other than a weight enum or `None` for 'weights' are deprecated since 0.13 and may be removed in the future. The current behavior is equivalent to passing `weights=ResNet18_Weights.IMAGENET1K_V1`. You can also use `weights=ResNet18_Weights.DEFAULT` to get the most up-to-date weights.\n",
      "  warnings.warn(msg)\n",
      "Downloading: \"https://download.pytorch.org/models/resnet18-f37072fd.pth\" to /root/.cache/torch/hub/checkpoints/resnet18-f37072fd.pth\n",
      "100%|██████████| 44.7M/44.7M [00:00<00:00, 52.4MB/s]\n"
     ]
    }
   ],
   "source": [
    "model_ft = models.resnet18(pretrained=True)\n",
    "num_ftrs = model_ft.fc.in_features"
   ]
  },
  {
   "cell_type": "code",
   "execution_count": 6,
   "metadata": {
    "executionInfo": {
     "elapsed": 10,
     "status": "ok",
     "timestamp": 1700673062243,
     "user": {
      "displayName": "vinayak baliga",
      "userId": "09325280867103225447"
     },
     "user_tz": -330
    },
    "id": "5SyAAmSk_Lhc"
   },
   "outputs": [],
   "source": [
    "modules = list(model_ft.children())[:-1]\n",
    "model_ft = nn.Sequential(*modules)\n",
    "\n",
    "# Move the model to GPU if available\n",
    "model_ft = model_ft.to(device)"
   ]
  },
  {
   "cell_type": "code",
   "execution_count": 7,
   "metadata": {
    "executionInfo": {
     "elapsed": 8,
     "status": "ok",
     "timestamp": 1700673062243,
     "user": {
      "displayName": "vinayak baliga",
      "userId": "09325280867103225447"
     },
     "user_tz": -330
    },
    "id": "tV2iG3-V_aGO"
   },
   "outputs": [],
   "source": [
    "#Extract features from the last layer of the pretrained CNN architecture\n",
    "def extract_features(dataloader, model, num_features):\n",
    "    model.eval()  # Set the model to evaluation mode\n",
    "    features = []\n",
    "    labels = []\n",
    "\n",
    "    with torch.no_grad():  # No need to track gradients for feature extraction\n",
    "        for inputs, label in dataloader:\n",
    "            inputs = inputs.to(device)\n",
    "            outputs = model(inputs)\n",
    "            features.append(outputs.cpu().reshape(inputs.size(0), -1))\n",
    "            labels.append(label)\n",
    "\n",
    "    features = torch.cat(features, 0).numpy()\n",
    "    labels = torch.cat(labels, 0).numpy()\n",
    "    return features, labels"
   ]
  },
  {
   "cell_type": "code",
   "execution_count": 8,
   "metadata": {
    "executionInfo": {
     "elapsed": 57949,
     "status": "ok",
     "timestamp": 1700673120186,
     "user": {
      "displayName": "vinayak baliga",
      "userId": "09325280867103225447"
     },
     "user_tz": -330
    },
    "id": "K5mDMO74_is2"
   },
   "outputs": [],
   "source": [
    "train_features, train_labels = extract_features(dataloaders['train'], model_ft, num_ftrs)\n",
    "val_features, val_labels = extract_features(dataloaders['val'], model_ft, num_ftrs)"
   ]
  },
  {
   "cell_type": "code",
   "execution_count": 9,
   "metadata": {
    "colab": {
     "base_uri": "https://localhost:8080/"
    },
    "executionInfo": {
     "elapsed": 240568,
     "status": "ok",
     "timestamp": 1700673360720,
     "user": {
      "displayName": "vinayak baliga",
      "userId": "09325280867103225447"
     },
     "user_tz": -330
    },
    "id": "ZQVYT9vn_rIg",
    "outputId": "e404ab4e-7c89-4c78-9d4b-0efcdeb202a1"
   },
   "outputs": [
    {
     "name": "stdout",
     "output_type": "stream",
     "text": [
      "Best hyperparameters: {'max_depth': 10, 'max_features': 4}\n",
      "Best accuracy: 0.9221938775510203\n"
     ]
    }
   ],
   "source": [
    "#Using Random Forest to perform classification\n",
    "from sklearn.ensemble import RandomForestClassifier\n",
    "from sklearn.model_selection import GridSearchCV\n",
    "\n",
    "\n",
    "# Define parameter grid\n",
    "param_grid = {\n",
    "    'max_depth': [10, 20, 30, 40],\n",
    "    'max_features': [4, 8, 12, 16]\n",
    "}\n",
    "\n",
    "# Define classifier\n",
    "rf = RandomForestClassifier(n_estimators=1000, random_state=42)\n",
    "\n",
    "# Define grid search\n",
    "grid_search = GridSearchCV(rf, param_grid, cv=5, scoring='accuracy')\n",
    "grid_search.fit(train_features,train_labels)\n",
    "\n",
    "print('Best hyperparameters:', grid_search.best_params_)\n",
    "print('Best accuracy:', grid_search.best_score_)\n"
   ]
  },
  {
   "cell_type": "code",
   "execution_count": 12,
   "metadata": {
    "executionInfo": {
     "elapsed": 8892,
     "status": "ok",
     "timestamp": 1700673630214,
     "user": {
      "displayName": "vinayak baliga",
      "userId": "09325280867103225447"
     },
     "user_tz": -330
    },
    "id": "VdoVAPaK_rUG"
   },
   "outputs": [],
   "source": [
    "#Using logistic regression to perform classification\n",
    "from sklearn.linear_model import LogisticRegression\n",
    "from sklearn.metrics import accuracy_score, f1_score\n",
    "\n",
    "param_grid = {'C': [0.01, 0.1, 1, 10, 100]}\n",
    "logreg = LogisticRegression(penalty='l2', solver='lbfgs', max_iter=1000)\n",
    "grid_search = GridSearchCV(logreg, param_grid, cv=5, scoring='accuracy')\n",
    "grid_search.fit(train_features,train_labels )\n",
    "y_pred = grid_search.predict(val_features)\n",
    "\n",
    "# Calculate accuracy and F1 score\n",
    "acc = accuracy_score(val_labels, y_pred)\n",
    "f1 = f1_score(val_labels, y_pred, average='weighted')\n"
   ]
  },
  {
   "cell_type": "code",
   "execution_count": 13,
   "metadata": {
    "colab": {
     "base_uri": "https://localhost:8080/"
    },
    "executionInfo": {
     "elapsed": 377,
     "status": "ok",
     "timestamp": 1700673665190,
     "user": {
      "displayName": "vinayak baliga",
      "userId": "09325280867103225447"
     },
     "user_tz": -330
    },
    "id": "S6gfljLODKCy",
    "outputId": "b6727823-44f5-4278-e35e-d330dd9000b4"
   },
   "outputs": [
    {
     "name": "stdout",
     "output_type": "stream",
     "text": [
      "Accuracy: 0.9607843137254902\n",
      "F1 score: 0.9608213604919811\n"
     ]
    }
   ],
   "source": [
    "print('Accuracy:', acc)\n",
    "print('F1 score:', f1)\n"
   ]
  },
  {
   "cell_type": "code",
   "execution_count": 15,
   "metadata": {
    "colab": {
     "base_uri": "https://localhost:8080/"
    },
    "executionInfo": {
     "elapsed": 3503,
     "status": "ok",
     "timestamp": 1700673927703,
     "user": {
      "displayName": "vinayak baliga",
      "userId": "09325280867103225447"
     },
     "user_tz": -330
    },
    "id": "cc8Hy7-lDQ5J",
    "outputId": "49492774-7e78-431e-f4a8-6d44654a90cb"
   },
   "outputs": [
    {
     "name": "stdout",
     "output_type": "stream",
     "text": [
      "Accuracy: 0.9477124183006536\n",
      "F1 score: 0.9477931090131526\n"
     ]
    }
   ],
   "source": [
    "#Using Support VEctor Machine to perform Classification\n",
    "from sklearn.svm import SVC\n",
    "\n",
    "# Train RBF kernel SVM using GridSearchCV\n",
    "param_grid = {'C': [0.01, 0.1, 1, 10, 100], 'gamma': [0.01, 0.1, 1, 10, 100]}\n",
    "svm = SVC(kernel='rbf')\n",
    "grid_search = GridSearchCV(svm, param_grid, cv=5, scoring='accuracy')\n",
    "grid_search.fit(train_features, train_labels)\n",
    "\n",
    "# Predict labels using the final model\n",
    "y_pred = grid_search.predict(val_features)\n",
    "\n",
    "# Calculate accuracy and F1 score\n",
    "acc = accuracy_score(val_labels, y_pred)\n",
    "f1 = f1_score(val_labels, y_pred, average='weighted')\n",
    "\n",
    "print('Accuracy:', acc)\n",
    "print('F1 score:', f1)\n"
   ]
  }
 ],
 "metadata": {
  "accelerator": "TPU",
  "colab": {
   "authorship_tag": "ABX9TyPr082C0iUUM8xOi6ZKLvfI",
   "provenance": []
  },
  "kernelspec": {
   "display_name": "Python 3 (ipykernel)",
   "language": "python",
   "name": "python3"
  },
  "language_info": {
   "codemirror_mode": {
    "name": "ipython",
    "version": 3
   },
   "file_extension": ".py",
   "mimetype": "text/x-python",
   "name": "python",
   "nbconvert_exporter": "python",
   "pygments_lexer": "ipython3",
   "version": "3.9.13"
  }
 },
 "nbformat": 4,
 "nbformat_minor": 1
}
